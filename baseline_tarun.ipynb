{
 "cells": [
  {
   "cell_type": "code",
   "execution_count": 1,
   "id": "8ae9ab28",
   "metadata": {
    "tags": []
   },
   "outputs": [],
   "source": [
    "import numpy as np"
   ]
  },
  {
   "cell_type": "code",
   "execution_count": 2,
   "id": "7c235454",
   "metadata": {
    "tags": []
   },
   "outputs": [],
   "source": [
    "import os\n",
    "\n",
    "clip_folder1 = r'./mean_var_kurt_skew'\n",
    "data = []\n",
    "labels=  []\n",
    "\n",
    "for filename in os.listdir(clip_folder1):\n",
    "    fname = clip_folder1 + '/' + filename\n",
    "    labels.append(filename[-5])\n",
    "    x = np.load(fname)\n",
    "    data.append(x)"
   ]
  },
  {
   "cell_type": "code",
   "execution_count": 3,
   "id": "38b31557",
   "metadata": {
    "tags": []
   },
   "outputs": [
    {
     "name": "stdout",
     "output_type": "stream",
     "text": [
      "(5587, 512)\n",
      "(5587,)\n"
     ]
    }
   ],
   "source": [
    "data = np.array(data)\n",
    "labels = np.array(labels)\n",
    "print(data.shape)\n",
    "print(labels.shape)"
   ]
  },
  {
   "cell_type": "markdown",
   "id": "726d2bfe",
   "metadata": {},
   "source": [
    "### Classifiers"
   ]
  },
  {
   "cell_type": "markdown",
   "id": "43ec8479",
   "metadata": {},
   "source": [
    "gradient boosting"
   ]
  },
  {
   "cell_type": "code",
   "execution_count": 4,
   "id": "07621771",
   "metadata": {
    "tags": []
   },
   "outputs": [],
   "source": [
    "#loss= deviance\n",
    "\n",
    "from sklearn.ensemble import GradientBoostingClassifier\n",
    "\n",
    "clf = GradientBoostingClassifier(loss='log_loss', learning_rate=0.1, n_estimators=100, subsample=1.0, criterion='friedman_mse')\n"
   ]
  },
  {
   "cell_type": "code",
   "execution_count": 5,
   "id": "9c0f50f0",
   "metadata": {
    "tags": []
   },
   "outputs": [
    {
     "name": "stdout",
     "output_type": "stream",
     "text": [
      "[0.83542039 0.86762075 0.84870188 0.84959714 0.85944494]\n"
     ]
    }
   ],
   "source": [
    "from sklearn.model_selection import cross_val_score\n",
    "scores = cross_val_score(clf, data, labels, cv=5)\n",
    "print(scores)"
   ]
  },
  {
   "cell_type": "code",
   "execution_count": 6,
   "id": "214814d2",
   "metadata": {
    "tags": []
   },
   "outputs": [
    {
     "name": "stdout",
     "output_type": "stream",
     "text": [
      "Accuracy: 0.85 (+/- 0.02)\n"
     ]
    }
   ],
   "source": [
    " print(\"Accuracy: %0.2f (+/- %0.2f)\" % (scores.mean(), scores.std() * 2))"
   ]
  },
  {
   "cell_type": "markdown",
   "id": "27907f03",
   "metadata": {},
   "source": [
    "Random Forest"
   ]
  },
  {
   "cell_type": "code",
   "execution_count": 7,
   "id": "a1c3519e",
   "metadata": {
    "tags": []
   },
   "outputs": [
    {
     "name": "stdout",
     "output_type": "stream",
     "text": [
      "[0.82200358 0.85778175 0.85049239 0.84959714 0.83974933]\n"
     ]
    }
   ],
   "source": [
    "from sklearn.ensemble import RandomForestClassifier\n",
    "clf = RandomForestClassifier()\n",
    "from sklearn.model_selection import cross_val_score\n",
    "scores = cross_val_score(clf, data, labels, cv=5)\n",
    "print(scores)"
   ]
  },
  {
   "cell_type": "code",
   "execution_count": 8,
   "id": "f97bc777",
   "metadata": {
    "tags": []
   },
   "outputs": [
    {
     "name": "stdout",
     "output_type": "stream",
     "text": [
      "Accuracy: 0.84 (+/- 0.02)\n"
     ]
    }
   ],
   "source": [
    " print(\"Accuracy: %0.2f (+/- %0.2f)\" % (scores.mean(), scores.std() * 2))"
   ]
  },
  {
   "cell_type": "markdown",
   "id": "c09a079a",
   "metadata": {},
   "source": [
    "SVM"
   ]
  },
  {
   "cell_type": "code",
   "execution_count": 9,
   "id": "e5d9a5ba",
   "metadata": {
    "tags": []
   },
   "outputs": [
    {
     "name": "stdout",
     "output_type": "stream",
     "text": [
      "[LibSVM][LibSVM][LibSVM][LibSVM][LibSVM][0.8059034  0.81484794 0.81468218 0.81557744 0.82273948]\n"
     ]
    }
   ],
   "source": [
    "from sklearn import svm\n",
    "\n",
    "clf = svm.SVC(kernel = 'poly',verbose = 1,coef0=25)\n",
    "from sklearn.model_selection import cross_val_score\n",
    "scores = cross_val_score(clf, data, labels, cv=5)\n",
    "print(scores)"
   ]
  },
  {
   "cell_type": "code",
   "execution_count": 10,
   "id": "ef0c2c05",
   "metadata": {
    "tags": []
   },
   "outputs": [
    {
     "name": "stdout",
     "output_type": "stream",
     "text": [
      "Accuracy: 0.81 (+/- 0.01)\n"
     ]
    }
   ],
   "source": [
    " print(\"Accuracy: %0.2f (+/- %0.2f)\" % (scores.mean(), scores.std() * 2))"
   ]
  },
  {
   "cell_type": "code",
   "execution_count": 11,
   "id": "2a1373e4-a462-4cd4-a157-fdbc17aeb170",
   "metadata": {
    "tags": []
   },
   "outputs": [
    {
     "name": "stdout",
     "output_type": "stream",
     "text": [
      "WARNING:tensorflow:From C:\\Users\\tarun\\anaconda3\\Lib\\site-packages\\keras\\src\\losses.py:2976: The name tf.losses.sparse_softmax_cross_entropy is deprecated. Please use tf.compat.v1.losses.sparse_softmax_cross_entropy instead.\n",
      "\n"
     ]
    }
   ],
   "source": [
    "import numpy as np\n",
    "import os\n",
    "from sklearn.ensemble import RandomForestClassifier, GradientBoostingClassifier\n",
    "from sklearn.model_selection import train_test_split\n",
    "from sklearn import svm\n",
    "from sklearn.metrics import accuracy_score, confusion_matrix\n",
    "from sklearn.preprocessing import LabelEncoder, OneHotEncoder\n",
    "import tensorflow as tf\n",
    "from tensorflow.keras.models import Sequential\n",
    "from tensorflow.keras.layers import Dense"
   ]
  },
  {
   "cell_type": "code",
   "execution_count": 12,
   "id": "d2bce378-f8c4-4012-be80-507213bfc19c",
   "metadata": {
    "tags": []
   },
   "outputs": [],
   "source": [
    "clip_folder1 = r'./mean_var_kurt_skew'\n",
    "data = []\n",
    "labels = []"
   ]
  },
  {
   "cell_type": "code",
   "execution_count": 13,
   "id": "d56d1b1d-2fc2-47af-b754-7d8b0cb3fe7e",
   "metadata": {
    "tags": []
   },
   "outputs": [],
   "source": [
    "# Load data and labels\n",
    "for filename in os.listdir(clip_folder1):\n",
    "    fname = os.path.join(clip_folder1, filename)\n",
    "    labels.append(filename[-5])\n",
    "    x = np.load(fname)\n",
    "    data.append(x)"
   ]
  },
  {
   "cell_type": "code",
   "execution_count": 14,
   "id": "40d946f4-470f-4a5e-a70c-48e818f1d5b9",
   "metadata": {
    "tags": []
   },
   "outputs": [],
   "source": [
    "# Convert data and labels to numpy arrays\n",
    "data = np.array(data)\n",
    "labels = np.array(labels)"
   ]
  },
  {
   "cell_type": "code",
   "execution_count": 16,
   "id": "44fbc747-9cd2-4a33-a8d2-0d93f404c4f1",
   "metadata": {
    "tags": []
   },
   "outputs": [],
   "source": [
    "# Encode the labels to integers\n",
    "label_encoder = LabelEncoder()\n",
    "integer_encoded_labels = label_encoder.fit_transform(labels)"
   ]
  },
  {
   "cell_type": "code",
   "execution_count": 18,
   "id": "42f3df5b-acca-4c83-bd70-e37ca5bad635",
   "metadata": {
    "tags": []
   },
   "outputs": [],
   "source": [
    "# One-hot encode the integer labels\n",
    "onehot_encoder = OneHotEncoder(sparse_output=False)\n",
    "integer_encoded_labels = integer_encoded_labels.reshape(len(integer_encoded_labels), 1)\n",
    "onehot_encoded_labels = onehot_encoder.fit_transform(integer_encoded_labels)"
   ]
  },
  {
   "cell_type": "code",
   "execution_count": 19,
   "id": "370e1dd7-e56f-4e8c-877e-9b9be56454f7",
   "metadata": {
    "tags": []
   },
   "outputs": [
    {
     "name": "stderr",
     "output_type": "stream",
     "text": [
      "C:\\Users\\tarun\\anaconda3\\Lib\\site-packages\\sklearn\\base.py:1474: DataConversionWarning: A column-vector y was passed when a 1d array was expected. Please change the shape of y to (n_samples,), for example using ravel().\n",
      "  return fit_method(estimator, *args, **kwargs)\n"
     ]
    }
   ],
   "source": [
    "# Step 2: Train the classifiers and extract last layer representations\n",
    "\n",
    "# Random Forest\n",
    "rf_clf = RandomForestClassifier()\n",
    "rf_clf.fit(data, integer_encoded_labels)\n",
    "rf_representations = rf_clf.apply(data)  # Extract leaves indices as representations"
   ]
  },
  {
   "cell_type": "code",
   "execution_count": 20,
   "id": "a22563b8-5d6d-4ea8-9430-228c59565305",
   "metadata": {
    "tags": []
   },
   "outputs": [
    {
     "name": "stderr",
     "output_type": "stream",
     "text": [
      "C:\\Users\\tarun\\anaconda3\\Lib\\site-packages\\sklearn\\preprocessing\\_label.py:114: DataConversionWarning: A column-vector y was passed when a 1d array was expected. Please change the shape of y to (n_samples, ), for example using ravel().\n",
      "  y = column_or_1d(y, warn=True)\n"
     ]
    }
   ],
   "source": [
    "# Gradient Boosting\n",
    "gb_clf = GradientBoostingClassifier(loss='log_loss', learning_rate=0.1, n_estimators=100, subsample=1.0, criterion='friedman_mse')\n",
    "gb_clf.fit(data, integer_encoded_labels)\n",
    "gb_representations = gb_clf.apply(data)[:, :, 0]  # Extract decision function values as representations\n"
   ]
  },
  {
   "cell_type": "code",
   "execution_count": 21,
   "id": "6c685dc8-9d34-4f1d-bea4-dbddf45f028e",
   "metadata": {
    "tags": []
   },
   "outputs": [
    {
     "name": "stderr",
     "output_type": "stream",
     "text": [
      "C:\\Users\\tarun\\anaconda3\\Lib\\site-packages\\sklearn\\utils\\validation.py:1300: DataConversionWarning: A column-vector y was passed when a 1d array was expected. Please change the shape of y to (n_samples, ), for example using ravel().\n",
      "  y = column_or_1d(y, warn=True)\n"
     ]
    },
    {
     "name": "stdout",
     "output_type": "stream",
     "text": [
      "[LibSVM]"
     ]
    }
   ],
   "source": [
    "# SVM\n",
    "svm_clf = svm.SVC(kernel='poly', verbose=1, coef0=25, decision_function_shape='ovr')\n",
    "svm_clf.fit(data, integer_encoded_labels)\n",
    "svm_representations = svm_clf.decision_function(data)  # Extract decision function values as representations\n"
   ]
  },
  {
   "cell_type": "code",
   "execution_count": 22,
   "id": "72e4a4a3-5c1e-457f-89e8-8ffc9dcff544",
   "metadata": {
    "tags": []
   },
   "outputs": [],
   "source": [
    "# Step 3: Concatenate feature vectors\n",
    "concatenated_features = np.concatenate((rf_representations, gb_representations, svm_representations), axis=1)\n"
   ]
  },
  {
   "cell_type": "code",
   "execution_count": 23,
   "id": "0ed6beaa-a62d-4a4f-ae96-65ed0987c0a1",
   "metadata": {
    "tags": []
   },
   "outputs": [],
   "source": [
    "# Step 4: Build and train a simple neural network (2 FC layers model)\n",
    "X_train, X_test, y_train, y_test = train_test_split(concatenated_features, onehot_encoded_labels, test_size=0.2, random_state=42)\n"
   ]
  },
  {
   "cell_type": "code",
   "execution_count": 24,
   "id": "53c7a52d-4daa-4f6b-89a6-7e069db65629",
   "metadata": {
    "tags": []
   },
   "outputs": [
    {
     "name": "stdout",
     "output_type": "stream",
     "text": [
      "WARNING:tensorflow:From C:\\Users\\tarun\\anaconda3\\Lib\\site-packages\\keras\\src\\backend.py:873: The name tf.get_default_graph is deprecated. Please use tf.compat.v1.get_default_graph instead.\n",
      "\n"
     ]
    }
   ],
   "source": [
    "model = Sequential([\n",
    "    Dense(64, activation='relu', input_shape=(concatenated_features.shape[1],)),\n",
    "    Dense(32, activation='relu'),\n",
    "    Dense(3, activation='softmax')  # 3 output units for 3 classes\n",
    "])"
   ]
  },
  {
   "cell_type": "code",
   "execution_count": 25,
   "id": "9e0c80d2-3c89-45c1-8294-6f1df1ff2b3a",
   "metadata": {
    "tags": []
   },
   "outputs": [
    {
     "name": "stdout",
     "output_type": "stream",
     "text": [
      "WARNING:tensorflow:From C:\\Users\\tarun\\anaconda3\\Lib\\site-packages\\keras\\src\\optimizers\\__init__.py:309: The name tf.train.Optimizer is deprecated. Please use tf.compat.v1.train.Optimizer instead.\n",
      "\n",
      "Epoch 1/10\n",
      "WARNING:tensorflow:From C:\\Users\\tarun\\anaconda3\\Lib\\site-packages\\keras\\src\\utils\\tf_utils.py:492: The name tf.ragged.RaggedTensorValue is deprecated. Please use tf.compat.v1.ragged.RaggedTensorValue instead.\n",
      "\n",
      "WARNING:tensorflow:From C:\\Users\\tarun\\anaconda3\\Lib\\site-packages\\keras\\src\\engine\\base_layer_utils.py:384: The name tf.executing_eagerly_outside_functions is deprecated. Please use tf.compat.v1.executing_eagerly_outside_functions instead.\n",
      "\n",
      "140/140 [==============================] - 1s 4ms/step - loss: 22.7812 - accuracy: 0.7592 - val_loss: 15.0516 - val_accuracy: 0.7513\n",
      "Epoch 2/10\n",
      "140/140 [==============================] - 0s 1ms/step - loss: 12.5897 - accuracy: 0.7765 - val_loss: 9.3928 - val_accuracy: 0.8050\n",
      "Epoch 3/10\n",
      "140/140 [==============================] - 0s 1ms/step - loss: 8.0756 - accuracy: 0.8000 - val_loss: 6.9339 - val_accuracy: 0.7809\n",
      "Epoch 4/10\n",
      "140/140 [==============================] - 0s 2ms/step - loss: 6.4732 - accuracy: 0.7966 - val_loss: 9.1435 - val_accuracy: 0.7835\n",
      "Epoch 5/10\n",
      "140/140 [==============================] - 0s 1ms/step - loss: 4.5790 - accuracy: 0.7941 - val_loss: 4.7581 - val_accuracy: 0.8184\n",
      "Epoch 6/10\n",
      "140/140 [==============================] - 0s 2ms/step - loss: 2.8935 - accuracy: 0.8094 - val_loss: 4.5154 - val_accuracy: 0.7648\n",
      "Epoch 7/10\n",
      "140/140 [==============================] - 0s 1ms/step - loss: 2.5112 - accuracy: 0.8053 - val_loss: 3.0604 - val_accuracy: 0.8122\n",
      "Epoch 8/10\n",
      "140/140 [==============================] - 0s 2ms/step - loss: 1.9281 - accuracy: 0.8102 - val_loss: 1.8789 - val_accuracy: 0.8050\n",
      "Epoch 9/10\n",
      "140/140 [==============================] - 0s 1ms/step - loss: 1.5608 - accuracy: 0.8111 - val_loss: 2.0171 - val_accuracy: 0.7987\n",
      "Epoch 10/10\n",
      "140/140 [==============================] - 0s 1ms/step - loss: 1.2283 - accuracy: 0.8143 - val_loss: 1.4735 - val_accuracy: 0.7782\n"
     ]
    },
    {
     "data": {
      "text/plain": [
       "<keras.src.callbacks.History at 0x279ff455510>"
      ]
     },
     "execution_count": 25,
     "metadata": {},
     "output_type": "execute_result"
    }
   ],
   "source": [
    "model.compile(optimizer='adam', loss='categorical_crossentropy', metrics=['accuracy'])\n",
    "model.fit(X_train, y_train, epochs=10, batch_size=32, validation_data=(X_test, y_test))\n"
   ]
  },
  {
   "cell_type": "code",
   "execution_count": 26,
   "id": "0ef82904-6bb1-4239-83eb-243387f705bb",
   "metadata": {
    "tags": []
   },
   "outputs": [
    {
     "name": "stdout",
     "output_type": "stream",
     "text": [
      "35/35 [==============================] - 0s 558us/step\n"
     ]
    }
   ],
   "source": [
    "# Step 5: Evaluate the model\n",
    "y_pred = model.predict(X_test)\n",
    "y_pred_classes = np.argmax(y_pred, axis=1)\n",
    "y_test_classes = np.argmax(y_test, axis=1)\n"
   ]
  },
  {
   "cell_type": "code",
   "execution_count": 27,
   "id": "8b6fddaa-d36e-44c6-965f-d7eee089f0b0",
   "metadata": {
    "tags": []
   },
   "outputs": [],
   "source": [
    "accuracy = accuracy_score(y_test_classes, y_pred_classes)\n",
    "conf_matrix = confusion_matrix(y_test_classes, y_pred_classes)\n"
   ]
  },
  {
   "cell_type": "code",
   "execution_count": 28,
   "id": "72cbcdb4-fde8-4737-bf0e-155629a1d833",
   "metadata": {
    "tags": []
   },
   "outputs": [
    {
     "name": "stdout",
     "output_type": "stream",
     "text": [
      "Accuracy: 0.778175313059034\n",
      "Confusion Matrix:\n",
      "[[758 113   9]\n",
      " [ 71  78  32]\n",
      " [  4  19  34]]\n"
     ]
    }
   ],
   "source": [
    "print(f'Accuracy: {accuracy}')\n",
    "print('Confusion Matrix:')\n",
    "print(conf_matrix)"
   ]
  },
  {
   "cell_type": "code",
   "execution_count": null,
   "id": "af750bc4-472c-4db8-97d0-bf5686bb7593",
   "metadata": {},
   "outputs": [],
   "source": []
  }
 ],
 "metadata": {
  "kernelspec": {
   "display_name": "Python 3 (ipykernel)",
   "language": "python",
   "name": "python3"
  },
  "language_info": {
   "codemirror_mode": {
    "name": "ipython",
    "version": 3
   },
   "file_extension": ".py",
   "mimetype": "text/x-python",
   "name": "python",
   "nbconvert_exporter": "python",
   "pygments_lexer": "ipython3",
   "version": "3.11.5"
  }
 },
 "nbformat": 4,
 "nbformat_minor": 5
}
