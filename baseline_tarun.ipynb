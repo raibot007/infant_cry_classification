{
 "cells": [
  {
   "cell_type": "code",
   "execution_count": 1,
   "id": "8ae9ab28",
   "metadata": {
    "tags": []
   },
   "outputs": [],
   "source": [
    "import numpy as np"
   ]
  },
  {
   "cell_type": "code",
   "execution_count": 2,
   "id": "7c235454",
   "metadata": {
    "tags": []
   },
   "outputs": [],
   "source": [
    "import os\n",
    "\n",
    "clip_folder1 = r'./mean_var_kurt_skew'\n",
    "data = []\n",
    "labels=  []\n",
    "\n",
    "for filename in os.listdir(clip_folder1):\n",
    "    fname = clip_folder1 + '/' + filename\n",
    "    labels.append(filename[-5])\n",
    "    x = np.load(fname)\n",
    "    data.append(x)"
   ]
  },
  {
   "cell_type": "code",
   "execution_count": 3,
   "id": "38b31557",
   "metadata": {
    "tags": []
   },
   "outputs": [
    {
     "name": "stdout",
     "output_type": "stream",
     "text": [
      "(5587, 512)\n",
      "(5587,)\n"
     ]
    }
   ],
   "source": [
    "data = np.array(data)\n",
    "labels = np.array(labels)\n",
    "print(data.shape)\n",
    "print(labels.shape)"
   ]
  },
  {
   "cell_type": "markdown",
   "id": "726d2bfe",
   "metadata": {},
   "source": [
    "### Classifiers"
   ]
  },
  {
   "cell_type": "markdown",
   "id": "43ec8479",
   "metadata": {},
   "source": [
    "gradient boosting"
   ]
  },
  {
   "cell_type": "code",
   "execution_count": 15,
   "id": "07621771",
   "metadata": {
    "tags": []
   },
   "outputs": [],
   "source": [
    "#loss= deviance\n",
    "\n",
    "from sklearn.ensemble import GradientBoostingClassifier\n",
    "\n",
    "clf = GradientBoostingClassifier(loss='log_loss', learning_rate=0.1, n_estimators=100, subsample=1.0, criterion='friedman_mse')\n"
   ]
  },
  {
   "cell_type": "code",
   "execution_count": 16,
   "id": "9c0f50f0",
   "metadata": {
    "tags": []
   },
   "outputs": [
    {
     "name": "stdout",
     "output_type": "stream",
     "text": [
      "[0.83542039 0.86762075 0.84780662 0.84959714 0.85944494]\n"
     ]
    }
   ],
   "source": [
    "from sklearn.model_selection import cross_val_score\n",
    "scores = cross_val_score(clf, data, labels, cv=5)\n",
    "print(scores)"
   ]
  },
  {
   "cell_type": "code",
   "execution_count": 17,
   "id": "214814d2",
   "metadata": {
    "tags": []
   },
   "outputs": [
    {
     "name": "stdout",
     "output_type": "stream",
     "text": [
      "Accuracy: 0.85 (+/- 0.02)\n"
     ]
    }
   ],
   "source": [
    " print(\"Accuracy: %0.2f (+/- %0.2f)\" % (scores.mean(), scores.std() * 2))"
   ]
  },
  {
   "cell_type": "markdown",
   "id": "27907f03",
   "metadata": {},
   "source": [
    "Random Forest"
   ]
  },
  {
   "cell_type": "code",
   "execution_count": 9,
   "id": "a1c3519e",
   "metadata": {
    "tags": []
   },
   "outputs": [
    {
     "name": "stdout",
     "output_type": "stream",
     "text": [
      "[0.81842576 0.85420394 0.84601611 0.84870188 0.83348254]\n"
     ]
    }
   ],
   "source": [
    "from sklearn.ensemble import RandomForestClassifier\n",
    "clf = RandomForestClassifier()\n",
    "from sklearn.model_selection import cross_val_score\n",
    "scores = cross_val_score(clf, data, labels, cv=5)\n",
    "print(scores)"
   ]
  },
  {
   "cell_type": "code",
   "execution_count": 10,
   "id": "f97bc777",
   "metadata": {
    "tags": []
   },
   "outputs": [
    {
     "name": "stdout",
     "output_type": "stream",
     "text": [
      "Accuracy: 0.84 (+/- 0.03)\n"
     ]
    }
   ],
   "source": [
    " print(\"Accuracy: %0.2f (+/- %0.2f)\" % (scores.mean(), scores.std() * 2))"
   ]
  },
  {
   "cell_type": "markdown",
   "id": "c09a079a",
   "metadata": {},
   "source": [
    "SVM"
   ]
  },
  {
   "cell_type": "code",
   "execution_count": 11,
   "id": "e5d9a5ba",
   "metadata": {
    "tags": []
   },
   "outputs": [
    {
     "name": "stdout",
     "output_type": "stream",
     "text": [
      "[LibSVM][LibSVM][LibSVM][LibSVM][LibSVM][0.8059034  0.81484794 0.81468218 0.81557744 0.82273948]\n"
     ]
    }
   ],
   "source": [
    "from sklearn import svm\n",
    "\n",
    "clf = svm.SVC(kernel = 'poly',verbose = 1,coef0=25)\n",
    "from sklearn.model_selection import cross_val_score\n",
    "scores = cross_val_score(clf, data, labels, cv=5)\n",
    "print(scores)"
   ]
  },
  {
   "cell_type": "code",
   "execution_count": 12,
   "id": "ef0c2c05",
   "metadata": {
    "tags": []
   },
   "outputs": [
    {
     "name": "stdout",
     "output_type": "stream",
     "text": [
      "Accuracy: 0.81 (+/- 0.01)\n"
     ]
    }
   ],
   "source": [
    " print(\"Accuracy: %0.2f (+/- %0.2f)\" % (scores.mean(), scores.std() * 2))"
   ]
  },
  {
   "cell_type": "code",
   "execution_count": 18,
   "id": "2a1373e4-a462-4cd4-a157-fdbc17aeb170",
   "metadata": {
    "tags": []
   },
   "outputs": [],
   "source": [
    "import numpy as np\n",
    "import os\n",
    "from sklearn.ensemble import GradientBoostingClassifier, RandomForestClassifier\n",
    "from sklearn import svm\n",
    "from sklearn.model_selection import cross_val_predict\n",
    "from sklearn.preprocessing import OneHotEncoder"
   ]
  },
  {
   "cell_type": "code",
   "execution_count": 19,
   "id": "d2bce378-f8c4-4012-be80-507213bfc19c",
   "metadata": {
    "tags": []
   },
   "outputs": [],
   "source": [
    "clip_folder1 = r'./mean_var_kurt_skew'\n",
    "data = []\n",
    "labels = []"
   ]
  },
  {
   "cell_type": "code",
   "execution_count": 20,
   "id": "d56d1b1d-2fc2-47af-b754-7d8b0cb3fe7e",
   "metadata": {
    "tags": []
   },
   "outputs": [],
   "source": [
    "# Load data and labels\n",
    "for filename in os.listdir(clip_folder1):\n",
    "    fname = os.path.join(clip_folder1, filename)\n",
    "    labels.append(filename[-5])\n",
    "    x = np.load(fname)\n",
    "    data.append(x)"
   ]
  },
  {
   "cell_type": "code",
   "execution_count": 21,
   "id": "40d946f4-470f-4a5e-a70c-48e818f1d5b9",
   "metadata": {
    "tags": []
   },
   "outputs": [],
   "source": [
    "# Convert labels to integers (assuming labels are single characters like '0', '1', '2')\n",
    "labels = np.array(labels).astype(int)"
   ]
  },
  {
   "cell_type": "code",
   "execution_count": 22,
   "id": "3013aa44-1fd6-439a-8e3d-015bfa099614",
   "metadata": {
    "tags": []
   },
   "outputs": [],
   "source": [
    "# Initialize classifiers\n",
    "gb_clf = GradientBoostingClassifier(loss='log_loss', learning_rate=0.1, n_estimators=100, subsample=1.0, criterion='friedman_mse')\n",
    "rf_clf = RandomForestClassifier()\n",
    "svm_clf = svm.SVC(kernel='poly', verbose=1, coef0=25)"
   ]
  },
  {
   "cell_type": "code",
   "execution_count": 26,
   "id": "afa79b77-c65c-48d1-8557-8ff9d5887588",
   "metadata": {
    "tags": []
   },
   "outputs": [],
   "source": [
    "def get_last_layer_representations(clf, data, labels, cv=5):\n",
    "    # Use cross_val_predict to get predictions (last layer representations)\n",
    "    if hasattr(clf, 'predict_proba'):\n",
    "        predictions = cross_val_predict(clf, data, labels, cv=cv, method='predict_proba')\n",
    "    else:\n",
    "        # For SVM, since predict_proba is not available, we use decision function and scale it\n",
    "        decision_values = cross_val_predict(clf, data, labels, cv=cv, method='decision_function')\n",
    "        # Scale decision values to [0, 1] range\n",
    "        predictions = (decision_values - decision_values.min()) / (decision_values.max() - decision_values.min())\n",
    "    return predictions"
   ]
  },
  {
   "cell_type": "code",
   "execution_count": null,
   "id": "a9469a18-1946-4a01-b228-edbae1061fe0",
   "metadata": {
    "tags": []
   },
   "outputs": [],
   "source": [
    "# Get last layer representations from each classifier\n",
    "gb_last_layer = get_last_layer_representations(gb_clf, data, labels)\n",
    "rf_last_layer = get_last_layer_representations(rf_clf, data, labels)"
   ]
  },
  {
   "cell_type": "code",
   "execution_count": 27,
   "id": "746edd3c-aeb7-4642-bbeb-65c5d5b5d4b8",
   "metadata": {
    "tags": []
   },
   "outputs": [
    {
     "name": "stdout",
     "output_type": "stream",
     "text": [
      "[LibSVM][LibSVM][LibSVM][LibSVM][LibSVM]"
     ]
    }
   ],
   "source": [
    "svm_last_layer = get_last_layer_representations(svm_clf, data, labels)"
   ]
  },
  {
   "cell_type": "code",
   "execution_count": 28,
   "id": "06e25146-fe25-4822-a560-d714e7fec5d4",
   "metadata": {
    "tags": []
   },
   "outputs": [],
   "source": [
    "# Concatenate the last layer representations into one feature vector\n",
    "combined_features = np.concatenate((gb_last_layer, rf_last_layer, svm_last_layer), axis=1)"
   ]
  },
  {
   "cell_type": "code",
   "execution_count": 29,
   "id": "67c852ff-67bb-4476-8854-f9a7a7e397be",
   "metadata": {
    "tags": []
   },
   "outputs": [
    {
     "name": "stdout",
     "output_type": "stream",
     "text": [
      "Shape of combined feature vector: (5587, 9)\n"
     ]
    }
   ],
   "source": [
    "# Print shape of combined feature vector\n",
    "print(\"Shape of combined feature vector:\", combined_features.shape)"
   ]
  },
  {
   "cell_type": "code",
   "execution_count": 30,
   "id": "113df6cd-72a2-40dc-a2fd-787306e014e5",
   "metadata": {
    "tags": []
   },
   "outputs": [
    {
     "name": "stdout",
     "output_type": "stream",
     "text": [
      "WARNING:tensorflow:From C:\\Users\\tarun\\anaconda3\\Lib\\site-packages\\keras\\src\\losses.py:2976: The name tf.losses.sparse_softmax_cross_entropy is deprecated. Please use tf.compat.v1.losses.sparse_softmax_cross_entropy instead.\n",
      "\n"
     ]
    }
   ],
   "source": [
    "import tensorflow as tf\n",
    "from tensorflow.keras.models import Sequential\n",
    "from tensorflow.keras.layers import Dense\n"
   ]
  },
  {
   "cell_type": "code",
   "execution_count": 31,
   "id": "27c81c37-1b72-485e-9f70-982ccb711066",
   "metadata": {
    "tags": []
   },
   "outputs": [
    {
     "name": "stdout",
     "output_type": "stream",
     "text": [
      "WARNING:tensorflow:From C:\\Users\\tarun\\anaconda3\\Lib\\site-packages\\keras\\src\\backend.py:873: The name tf.get_default_graph is deprecated. Please use tf.compat.v1.get_default_graph instead.\n",
      "\n"
     ]
    }
   ],
   "source": [
    "# Define a simple neural network model\n",
    "model = Sequential([\n",
    "    Dense(128, activation='relu', input_shape=(combined_features.shape[1],)),\n",
    "    Dense(64, activation='relu'),\n",
    "    Dense(1, activation='sigmoid')  # Assuming binary classification, adjust output size accordingly\n",
    "])\n"
   ]
  },
  {
   "cell_type": "code",
   "execution_count": 32,
   "id": "c5bcdb03-324c-4e63-a33d-f186303a127d",
   "metadata": {
    "tags": []
   },
   "outputs": [
    {
     "name": "stdout",
     "output_type": "stream",
     "text": [
      "WARNING:tensorflow:From C:\\Users\\tarun\\anaconda3\\Lib\\site-packages\\keras\\src\\optimizers\\__init__.py:309: The name tf.train.Optimizer is deprecated. Please use tf.compat.v1.train.Optimizer instead.\n",
      "\n"
     ]
    }
   ],
   "source": [
    "# Compile the model\n",
    "model.compile(optimizer='adam',\n",
    "              loss='binary_crossentropy',  # Adjust loss function based on your problem type\n",
    "              metrics=['accuracy'])"
   ]
  },
  {
   "cell_type": "code",
   "execution_count": 33,
   "id": "f6be09da-2838-4a75-9de9-2976eb82900d",
   "metadata": {
    "tags": []
   },
   "outputs": [
    {
     "name": "stdout",
     "output_type": "stream",
     "text": [
      "Model: \"sequential\"\n",
      "_________________________________________________________________\n",
      " Layer (type)                Output Shape              Param #   \n",
      "=================================================================\n",
      " dense (Dense)               (None, 128)               1280      \n",
      "                                                                 \n",
      " dense_1 (Dense)             (None, 64)                8256      \n",
      "                                                                 \n",
      " dense_2 (Dense)             (None, 1)                 65        \n",
      "                                                                 \n",
      "=================================================================\n",
      "Total params: 9601 (37.50 KB)\n",
      "Trainable params: 9601 (37.50 KB)\n",
      "Non-trainable params: 0 (0.00 Byte)\n",
      "_________________________________________________________________\n"
     ]
    }
   ],
   "source": [
    "# Print model summary\n",
    "model.summary()"
   ]
  },
  {
   "cell_type": "code",
   "execution_count": 34,
   "id": "ad92996f-46ad-40d5-a8f6-72d3d26d59c1",
   "metadata": {
    "tags": []
   },
   "outputs": [
    {
     "name": "stdout",
     "output_type": "stream",
     "text": [
      "Epoch 1/10\n",
      "WARNING:tensorflow:From C:\\Users\\tarun\\anaconda3\\Lib\\site-packages\\keras\\src\\utils\\tf_utils.py:492: The name tf.ragged.RaggedTensorValue is deprecated. Please use tf.compat.v1.ragged.RaggedTensorValue instead.\n",
      "\n",
      "WARNING:tensorflow:From C:\\Users\\tarun\\anaconda3\\Lib\\site-packages\\keras\\src\\engine\\base_layer_utils.py:384: The name tf.executing_eagerly_outside_functions is deprecated. Please use tf.compat.v1.executing_eagerly_outside_functions instead.\n",
      "\n",
      "140/140 [==============================] - 1s 3ms/step - loss: 0.1726 - accuracy: 0.8096 - val_loss: -0.2762 - val_accuracy: 0.8542\n",
      "Epoch 2/10\n",
      "140/140 [==============================] - 0s 1ms/step - loss: -1.1657 - accuracy: 0.8156 - val_loss: -2.7669 - val_accuracy: 0.8488\n",
      "Epoch 3/10\n",
      "140/140 [==============================] - 0s 1ms/step - loss: -7.3743 - accuracy: 0.8161 - val_loss: -12.7830 - val_accuracy: 0.8148\n",
      "Epoch 4/10\n",
      "140/140 [==============================] - 0s 1ms/step - loss: -26.0723 - accuracy: 0.8082 - val_loss: -35.6432 - val_accuracy: 0.7871\n",
      "Epoch 5/10\n",
      "140/140 [==============================] - 0s 1ms/step - loss: -64.0299 - accuracy: 0.8073 - val_loss: -81.2374 - val_accuracy: 0.7844\n",
      "Epoch 6/10\n",
      "140/140 [==============================] - 0s 1ms/step - loss: -125.5089 - accuracy: 0.8029 - val_loss: -150.8079 - val_accuracy: 0.8050\n",
      "Epoch 7/10\n",
      "140/140 [==============================] - 0s 1ms/step - loss: -215.3486 - accuracy: 0.8040 - val_loss: -242.2254 - val_accuracy: 0.8301\n",
      "Epoch 8/10\n",
      "140/140 [==============================] - 0s 1ms/step - loss: -337.6251 - accuracy: 0.8035 - val_loss: -364.7884 - val_accuracy: 0.7961\n",
      "Epoch 9/10\n",
      "140/140 [==============================] - 0s 1ms/step - loss: -495.6446 - accuracy: 0.8029 - val_loss: -525.9134 - val_accuracy: 0.8086\n",
      "Epoch 10/10\n",
      "140/140 [==============================] - 0s 1ms/step - loss: -685.9694 - accuracy: 0.8020 - val_loss: -714.6895 - val_accuracy: 0.8014\n"
     ]
    },
    {
     "data": {
      "text/plain": [
       "<keras.src.callbacks.History at 0x17015803f10>"
      ]
     },
     "execution_count": 34,
     "metadata": {},
     "output_type": "execute_result"
    }
   ],
   "source": [
    "# Train the model using the concatenated feature vector as input\n",
    "model.fit(combined_features, labels, epochs=10, batch_size=32, validation_split=0.2)"
   ]
  },
  {
   "cell_type": "code",
   "execution_count": null,
   "id": "af750bc4-472c-4db8-97d0-bf5686bb7593",
   "metadata": {},
   "outputs": [],
   "source": []
  }
 ],
 "metadata": {
  "kernelspec": {
   "display_name": "Python 3 (ipykernel)",
   "language": "python",
   "name": "python3"
  },
  "language_info": {
   "codemirror_mode": {
    "name": "ipython",
    "version": 3
   },
   "file_extension": ".py",
   "mimetype": "text/x-python",
   "name": "python",
   "nbconvert_exporter": "python",
   "pygments_lexer": "ipython3",
   "version": "3.11.5"
  }
 },
 "nbformat": 4,
 "nbformat_minor": 5
}
